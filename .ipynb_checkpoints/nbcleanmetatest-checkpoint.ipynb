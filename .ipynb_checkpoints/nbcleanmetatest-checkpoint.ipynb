{
 "cells": [
  {
   "cell_type": "markdown",
   "id": "a1fab9f8-1da6-43b2-8ed9-5d5ea36d14a8",
   "metadata": {},
   "source": [
    "add test"
   ]
  },
  {
   "cell_type": "code",
   "execution_count": null,
   "id": "f6e9927b",
   "metadata": {
    "ExecuteTime": {
     "end_time": "2022-02-01T11:02:08.081350Z",
     "start_time": "2022-02-01T11:02:07.022078Z"
    }
   },
   "outputs": [],
   "source": [
    "import matplotlib.pyplot as plt\n",
    "import numpy as np"
   ]
  }
 ],
 "metadata": {
  "kernelspec": {
   "display_name": "Python 3 (ipykernel)",
   "language": "python",
   "name": "python3"
  },
  "language_info": {
   "codemirror_mode": {
    "name": "ipython",
    "version": 3
   },
   "file_extension": ".py",
   "mimetype": "text/x-python",
   "name": "python",
   "nbconvert_exporter": "python",
   "pygments_lexer": "ipython3",
   "version": "3.8.12"
  },
  "toc": {
   "base_numbering": 1,
   "nav_menu": {},
   "number_sections": false,
   "sideBar": true,
   "skip_h1_title": false,
   "title_cell": "Table of Contents",
   "title_sidebar": "Contents",
   "toc_cell": false,
   "toc_position": {},
   "toc_section_display": true,
   "toc_window_display": false
  }
 },
 "nbformat": 4,
 "nbformat_minor": 5
}
